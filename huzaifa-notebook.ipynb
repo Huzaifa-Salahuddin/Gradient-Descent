{
 "cells": [
  {
   "cell_type": "markdown",
   "id": "c40a81a4",
   "metadata": {},
   "source": [
    "# Deep Learning "
   ]
  },
  {
   "cell_type": "markdown",
   "id": "6eca67ec",
   "metadata": {},
   "source": [
    "# Gradient Descent With Three Features and 1 Example (Assignment 2)"
   ]
  },
  {
   "cell_type": "code",
   "execution_count": 9,
   "id": "d4e365e2",
   "metadata": {},
   "outputs": [],
   "source": [
    "import math \n",
    "import numpy as np"
   ]
  },
  {
   "cell_type": "code",
   "execution_count": 53,
   "id": "caa6f925",
   "metadata": {},
   "outputs": [],
   "source": [
    "##STEP 1 Initialize Weights\n",
    "x1 = 0.5\n",
    "x2 = 0.3\n",
    "w1 = 0.4\n",
    "w2 = 0.6\n",
    "b = 0.2\n",
    "y = 1  "
   ]
  },
  {
   "cell_type": "code",
   "execution_count": 54,
   "id": "388fddc0",
   "metadata": {},
   "outputs": [],
   "source": [
    "def for_pass(x1, x2, w1, w2, b):\n",
    "    z = w1 * x1 + w2 * x2 + b\n",
    "    return z"
   ]
  },
  {
   "cell_type": "code",
   "execution_count": 55,
   "id": "f8a9ae1f",
   "metadata": {},
   "outputs": [],
   "source": [
    "def sigmoid(z):\n",
    "    a = 1/(1+math.e**(-z))\n",
    "    return a"
   ]
  },
  {
   "cell_type": "code",
   "execution_count": 56,
   "id": "4d31906f",
   "metadata": {},
   "outputs": [],
   "source": [
    "def loss_func(a,y):\n",
    "    loss = -(y * math.log(a) + (1 - y) * math.log(1 - a))\n",
    "    return loss"
   ]
  },
  {
   "cell_type": "code",
   "execution_count": 57,
   "id": "58471c17",
   "metadata": {},
   "outputs": [],
   "source": [
    "def back_pass(a, y, w1, w2, b, alpha):\n",
    "    dz =  a - y                                                       \n",
    "    dw1 = dz * x1\n",
    "    dw2 = dz * x2\n",
    "    db = dz\n",
    "    w1 = w1 - (alpha*dw1)\n",
    "    w2 = w2 - (alpha*dw2)\n",
    "    b = b - (alpha*db)\n",
    "    return w1,w2,b"
   ]
  },
  {
   "cell_type": "code",
   "execution_count": 58,
   "id": "f92a84dc",
   "metadata": {},
   "outputs": [
    {
     "name": "stdout",
     "output_type": "stream",
     "text": [
      "-----------------------------------------------------------------------------\n",
      "\n",
      "The Predicted Output a/y_hat: 0.6410674063348171\n",
      "\n",
      "Loss is: 0.44462066950155305\n",
      "\n",
      "The values of w1: 0.4001794662968326, w2: 0.6001076797780995,  b: 0.2003589325936652,\n",
      "\n",
      "-----------------------------------------------------------------------------\n",
      "\n",
      "The Predicted Output a/y_hat: 0.6411780699402728\n",
      "\n",
      "Loss is: 0.4444480604219687\n",
      "\n",
      "The values of w1: 0.4003588772618625, w2: 0.6002153263571175,  b: 0.20071775452372492,\n",
      "\n",
      "-----------------------------------------------------------------------------\n",
      "\n",
      "The Predicted Output a/y_hat: 0.6412886844060224\n",
      "\n",
      "Loss is: 0.4442755577576322\n",
      "\n",
      "The values of w1: 0.40053823291965945, w2: 0.6003229397517957,  b: 0.2010764658393189,\n",
      "\n",
      "-----------------------------------------------------------------------------\n",
      "\n",
      "The Predicted Output a/y_hat: 0.6413992497513853\n",
      "\n",
      "Loss is: 0.444103161428498\n",
      "\n",
      "The values of w1: 0.40071753329478377, w2: 0.6004305199768704,  b: 0.20143506658956753,\n",
      "\n",
      "-----------------------------------------------------------------------------\n",
      "\n",
      "The Predicted Output a/y_hat: 0.6415097659956863\n",
      "\n",
      "Loss is: 0.44393087135458337\n",
      "\n",
      "The values of w1: 0.40089677841178595, w2: 0.6005380670470717,  b: 0.20179355682357183,\n",
      "\n",
      "-----------------------------------------------------------------------------\n",
      "\n",
      "The Predicted Output a/y_hat: 0.641620233158256\n",
      "\n",
      "Loss is: 0.4437586874559676\n",
      "\n",
      "The values of w1: 0.4010759682952068, w2: 0.6006455809771242,  b: 0.20215193659041358,\n",
      "\n",
      "-----------------------------------------------------------------------------\n",
      "\n",
      "The Predicted Output a/y_hat: 0.6417306512584302\n",
      "\n",
      "Loss is: 0.4435866096527924\n",
      "\n",
      "The values of w1: 0.4012551029695776, w2: 0.6007530617817466,  b: 0.20251020593915514,\n",
      "\n",
      "-----------------------------------------------------------------------------\n",
      "\n",
      "The Predicted Output a/y_hat: 0.6418410203155508\n",
      "\n",
      "Loss is: 0.44341463786526103\n",
      "\n",
      "The values of w1: 0.40143418245941986, w2: 0.600860509475652,  b: 0.20286836491883958,\n",
      "\n",
      "-----------------------------------------------------------------------------\n",
      "\n",
      "The Predicted Output a/y_hat: 0.6419513403489645\n",
      "\n",
      "Loss is: 0.44324277201363976\n",
      "\n",
      "The values of w1: 0.4016132067892454, w2: 0.6009679240735473,  b: 0.2032264135784906,\n",
      "\n",
      "-----------------------------------------------------------------------------\n",
      "\n",
      "The Predicted Output a/y_hat: 0.6420616113780238\n",
      "\n",
      "Loss is: 0.44307101201825644\n",
      "\n",
      "The values of w1: 0.4017921759835564, w2: 0.6010753055901339,  b: 0.20358435196711258,\n"
     ]
    }
   ],
   "source": [
    "alpha = 0.001\n",
    "for i in range(10):\n",
    "    z = for_pass(x1, x2, w1, w2, b)\n",
    "    a = sigmoid(z)\n",
    "    ls= loss_func(a,y)\n",
    "    w1, w2, b = back_pass(a, y, w1, w2, b, alpha)\n",
    "    print(\"-----------------------------------------------------------------------------\")\n",
    "    print(f'The Predicted Output a/y_hat: {a}')\n",
    "    print(f'Loss is: {ls}')\n",
    "    print(f'The values of w1: {w1}, w2: {w2},  b: {b},')\n"
   ]
  },
  {
   "cell_type": "code",
   "execution_count": 59,
   "id": "c7e3766e",
   "metadata": {},
   "outputs": [
    {
     "data": {
      "text/plain": [
       "(0.4017921759835564,\n",
       " 0.6010753055901339,\n",
       " 0.20358435196711258,\n",
       " 0.44307101201825644)"
      ]
     },
     "execution_count": 59,
     "metadata": {},
     "output_type": "execute_result"
    }
   ],
   "source": [
    "w1,w2,b,ls"
   ]
  },
  {
   "cell_type": "markdown",
   "id": "07a1bf30",
   "metadata": {},
   "source": [
    "# Gradient Descent With n Features and 1 Example (Vectorized) (Assignment 3)"
   ]
  },
  {
   "cell_type": "code",
   "execution_count": 60,
   "id": "46915b3c",
   "metadata": {},
   "outputs": [],
   "source": [
    "import numpy as np \n",
    "import pandas as pd\n",
    "import time"
   ]
  },
  {
   "cell_type": "code",
   "execution_count": 61,
   "id": "4c8884af",
   "metadata": {},
   "outputs": [
    {
     "data": {
      "text/html": [
       "<div>\n",
       "<style scoped>\n",
       "    .dataframe tbody tr th:only-of-type {\n",
       "        vertical-align: middle;\n",
       "    }\n",
       "\n",
       "    .dataframe tbody tr th {\n",
       "        vertical-align: top;\n",
       "    }\n",
       "\n",
       "    .dataframe thead th {\n",
       "        text-align: right;\n",
       "    }\n",
       "</style>\n",
       "<table border=\"1\" class=\"dataframe\">\n",
       "  <thead>\n",
       "    <tr style=\"text-align: right;\">\n",
       "      <th></th>\n",
       "      <th>x1</th>\n",
       "      <th>x2</th>\n",
       "      <th>x3</th>\n",
       "      <th>x4</th>\n",
       "      <th>x5</th>\n",
       "      <th>y</th>\n",
       "    </tr>\n",
       "  </thead>\n",
       "  <tbody>\n",
       "    <tr>\n",
       "      <th>0</th>\n",
       "      <td>0.434072</td>\n",
       "      <td>0.765072</td>\n",
       "      <td>0.088809</td>\n",
       "      <td>0.746471</td>\n",
       "      <td>0.423473</td>\n",
       "      <td>1</td>\n",
       "    </tr>\n",
       "  </tbody>\n",
       "</table>\n",
       "</div>"
      ],
      "text/plain": [
       "         x1        x2        x3        x4        x5  y\n",
       "0  0.434072  0.765072  0.088809  0.746471  0.423473  1"
      ]
     },
     "execution_count": 61,
     "metadata": {},
     "output_type": "execute_result"
    }
   ],
   "source": [
    "data = {\n",
    "    'x1': np.random.rand(1),  \n",
    "    'x2': np.random.rand(1),  \n",
    "    'x3': np.random.rand(1),  \n",
    "    'x4': np.random.rand(1),  \n",
    "    'x5': np.random.rand(1),\n",
    "    'y':[1]\n",
    "}\n",
    "df =pd.DataFrame(data)\n",
    "df\n"
   ]
  },
  {
   "cell_type": "code",
   "execution_count": 62,
   "id": "eb76d682",
   "metadata": {},
   "outputs": [
    {
     "name": "stdout",
     "output_type": "stream",
     "text": [
      "[[0.43407163 0.76507169 0.08880928 0.7464713  0.42347264]]\n"
     ]
    }
   ],
   "source": [
    "X = np.array(df.iloc[:,:-1])\n",
    "print(X)"
   ]
  },
  {
   "cell_type": "code",
   "execution_count": 63,
   "id": "d07e5761",
   "metadata": {},
   "outputs": [
    {
     "name": "stdout",
     "output_type": "stream",
     "text": [
      "[1]\n"
     ]
    }
   ],
   "source": [
    "y = df.iloc[:,-1]\n",
    "y = np.array(y)\n",
    "print(y)"
   ]
  },
  {
   "cell_type": "code",
   "execution_count": 64,
   "id": "951fb676",
   "metadata": {},
   "outputs": [],
   "source": [
    "def cal_loss(a,y):\n",
    "    loss = -(y * np.log(a)) - ((1 - y) * np.log(1 - a))\n",
    "    return loss"
   ]
  },
  {
   "cell_type": "code",
   "execution_count": 65,
   "id": "e477a43f",
   "metadata": {},
   "outputs": [],
   "source": [
    "def weight(X):\n",
    "    num_feature = X.shape[1]\n",
    "    b = 1\n",
    "    W = np.ones((1, num_feature)) * 0.005\n",
    "    return W, b\n"
   ]
  },
  {
   "cell_type": "code",
   "execution_count": 66,
   "id": "69e64fac",
   "metadata": {},
   "outputs": [],
   "source": [
    "def sigmoid(z):\n",
    "    a = 1/(1+np.exp(-z))\n",
    "    return a"
   ]
  },
  {
   "cell_type": "code",
   "execution_count": 67,
   "id": "5b33ec78",
   "metadata": {},
   "outputs": [],
   "source": [
    "def forward_pass(X,W,b):\n",
    "    z = np.dot(X,W.T) + b\n",
    "    a = sigmoid(z)\n",
    "    return z,a"
   ]
  },
  {
   "cell_type": "code",
   "execution_count": 68,
   "id": "8f6ddc57",
   "metadata": {},
   "outputs": [],
   "source": [
    "def backpass(a,y,W,X,b,alpha):\n",
    "    dz =  a - y\n",
    "    dW = dz * X\n",
    "    db = dz \n",
    "    W = W - (alpha*dW)\n",
    "    b = b - (alpha*db)\n",
    "    return W,b"
   ]
  },
  {
   "cell_type": "code",
   "execution_count": 69,
   "id": "39ca7bd0",
   "metadata": {},
   "outputs": [
    {
     "name": "stdout",
     "output_type": "stream",
     "text": [
      "[[0.005 0.005 0.005 0.005 0.005]] 1\n",
      "\n",
      "--------------------------------------\n",
      "\n",
      "The Loss: \n",
      "\n",
      "The Predicted Output a/y_hat: [[0.73346797]]\n",
      "\n",
      "The values of W: [[0.0165694  0.02539161 0.00736705 0.02489585 0.0162869 ]], b: [[1.0266532]]\n",
      "\n",
      "\n",
      "\n",
      "--------------------------------------\n",
      "\n",
      "The Loss: \n",
      "\n",
      "The Predicted Output a/y_hat: [[0.7463818]]\n",
      "\n",
      "The values of W: [[0.02757825 0.04479522 0.00961942 0.04382772 0.02702694]], b: [[1.05201502]]\n",
      "\n",
      "\n",
      "\n",
      "--------------------------------------\n",
      "\n",
      "The Loss: \n",
      "\n",
      "The Predicted Output a/y_hat: [[0.75828008]]\n",
      "\n",
      "The values of W: [[0.03807062 0.06328853 0.01176611 0.06187142 0.03726312]], b: [[1.07618702]]\n",
      "\n",
      "\n",
      "\n",
      "--------------------------------------\n",
      "\n",
      "The Loss: \n",
      "\n",
      "The Predicted Output a/y_hat: [[0.76926093]]\n",
      "\n",
      "The values of W: [[0.04808635 0.08094172 0.01381529 0.07909543 0.04703428]], b: [[1.09926092]]\n",
      "\n",
      "\n",
      "\n",
      "--------------------------------------\n",
      "\n",
      "The Loss: \n",
      "\n",
      "The Predicted Output a/y_hat: [[0.77941271]]\n",
      "\n",
      "The values of W: [[0.05766142 0.09781823 0.01577431 0.09556164 0.05637555]], b: [[1.12131965]]\n",
      "\n",
      "\n",
      "\n",
      "3.9904117584228516\n"
     ]
    }
   ],
   "source": [
    "alpha = 0.1\n",
    "epochs=5\n",
    "W,b = weight(X)\n",
    "print(W, b)\n",
    "tic =time.time()\n",
    "for i in range(epochs):\n",
    "    z = np.dot(X,W.T) + b\n",
    "    a = sigmoid(z)\n",
    "    loss = cal_loss(a,y)\n",
    "    W,b = backpass(a,y,W,X,b,alpha)\n",
    "    print('--------------------------------------')\n",
    "    print(f'The Loss: ')\n",
    "    print(f'The Predicted Output a/y_hat: {a}')\n",
    "    print(f'The values of W: {W}, b: {b}\\n')\n",
    "toc =time.time()\n",
    "print(str(1000*(toc-tic)))"
   ]
  },
  {
   "cell_type": "markdown",
   "id": "b6d36485",
   "metadata": {},
   "source": [
    "# *Gradient Descent With n Features and m Example (Vectorized)*"
   ]
  },
  {
   "cell_type": "code",
   "execution_count": 1,
   "id": "afc85a4c",
   "metadata": {
    "execution": {
     "iopub.execute_input": "2024-03-25T22:55:09.180765Z",
     "iopub.status.busy": "2024-03-25T22:55:09.180296Z",
     "iopub.status.idle": "2024-03-25T22:55:10.522083Z",
     "shell.execute_reply": "2024-03-25T22:55:10.520483Z",
     "shell.execute_reply.started": "2024-03-25T22:55:09.180728Z"
    }
   },
   "outputs": [],
   "source": [
    "import numpy as np\n",
    "import pandas as pd"
   ]
  },
  {
   "cell_type": "code",
   "execution_count": 30,
   "id": "b77ef372",
   "metadata": {
    "execution": {
     "iopub.execute_input": "2024-03-25T23:13:28.283907Z",
     "iopub.status.busy": "2024-03-25T23:13:28.283480Z",
     "iopub.status.idle": "2024-03-25T23:13:28.308249Z",
     "shell.execute_reply": "2024-03-25T23:13:28.306918Z",
     "shell.execute_reply.started": "2024-03-25T23:13:28.283875Z"
    }
   },
   "outputs": [
    {
     "data": {
      "text/html": [
       "<div>\n",
       "<style scoped>\n",
       "    .dataframe tbody tr th:only-of-type {\n",
       "        vertical-align: middle;\n",
       "    }\n",
       "\n",
       "    .dataframe tbody tr th {\n",
       "        vertical-align: top;\n",
       "    }\n",
       "\n",
       "    .dataframe thead th {\n",
       "        text-align: right;\n",
       "    }\n",
       "</style>\n",
       "<table border=\"1\" class=\"dataframe\">\n",
       "  <thead>\n",
       "    <tr style=\"text-align: right;\">\n",
       "      <th></th>\n",
       "      <th>x1</th>\n",
       "      <th>x2</th>\n",
       "      <th>x3</th>\n",
       "      <th>x4</th>\n",
       "      <th>x5</th>\n",
       "      <th>y</th>\n",
       "    </tr>\n",
       "  </thead>\n",
       "  <tbody>\n",
       "    <tr>\n",
       "      <th>0</th>\n",
       "      <td>0.168868</td>\n",
       "      <td>0.601219</td>\n",
       "      <td>0.267110</td>\n",
       "      <td>0.211592</td>\n",
       "      <td>0.219758</td>\n",
       "      <td>1</td>\n",
       "    </tr>\n",
       "    <tr>\n",
       "      <th>1</th>\n",
       "      <td>0.092954</td>\n",
       "      <td>0.557325</td>\n",
       "      <td>0.811072</td>\n",
       "      <td>0.757250</td>\n",
       "      <td>0.826851</td>\n",
       "      <td>0</td>\n",
       "    </tr>\n",
       "    <tr>\n",
       "      <th>2</th>\n",
       "      <td>0.372966</td>\n",
       "      <td>0.126565</td>\n",
       "      <td>0.371136</td>\n",
       "      <td>0.809892</td>\n",
       "      <td>0.540994</td>\n",
       "      <td>1</td>\n",
       "    </tr>\n",
       "    <tr>\n",
       "      <th>3</th>\n",
       "      <td>0.614317</td>\n",
       "      <td>0.140751</td>\n",
       "      <td>0.133174</td>\n",
       "      <td>0.475918</td>\n",
       "      <td>0.126772</td>\n",
       "      <td>1</td>\n",
       "    </tr>\n",
       "    <tr>\n",
       "      <th>4</th>\n",
       "      <td>0.582576</td>\n",
       "      <td>0.807610</td>\n",
       "      <td>0.782733</td>\n",
       "      <td>0.770890</td>\n",
       "      <td>0.438639</td>\n",
       "      <td>0</td>\n",
       "    </tr>\n",
       "    <tr>\n",
       "      <th>5</th>\n",
       "      <td>0.142566</td>\n",
       "      <td>0.176886</td>\n",
       "      <td>0.274120</td>\n",
       "      <td>0.788097</td>\n",
       "      <td>0.626729</td>\n",
       "      <td>0</td>\n",
       "    </tr>\n",
       "  </tbody>\n",
       "</table>\n",
       "</div>"
      ],
      "text/plain": [
       "         x1        x2        x3        x4        x5  y\n",
       "0  0.168868  0.601219  0.267110  0.211592  0.219758  1\n",
       "1  0.092954  0.557325  0.811072  0.757250  0.826851  0\n",
       "2  0.372966  0.126565  0.371136  0.809892  0.540994  1\n",
       "3  0.614317  0.140751  0.133174  0.475918  0.126772  1\n",
       "4  0.582576  0.807610  0.782733  0.770890  0.438639  0\n",
       "5  0.142566  0.176886  0.274120  0.788097  0.626729  0"
      ]
     },
     "execution_count": 30,
     "metadata": {},
     "output_type": "execute_result"
    }
   ],
   "source": [
    "data={ \n",
    "    'x1':np.random.rand(6),\n",
    "    'x2':np.random.rand(6),\n",
    "    'x3':np.random.rand(6),\n",
    "    'x4':np.random.rand(6),\n",
    "    'x5':np.random.rand(6),\n",
    "    'y': np.random.randint(0, 2, size=6)\n",
    "    }\n",
    "df = pd.DataFrame(data)\n",
    "df\n"
   ]
  },
  {
   "cell_type": "code",
   "execution_count": 41,
   "id": "f068018a",
   "metadata": {
    "execution": {
     "iopub.execute_input": "2024-03-25T23:14:47.582087Z",
     "iopub.status.busy": "2024-03-25T23:14:47.581131Z",
     "iopub.status.idle": "2024-03-25T23:14:47.597723Z",
     "shell.execute_reply": "2024-03-25T23:14:47.596128Z",
     "shell.execute_reply.started": "2024-03-25T23:14:47.582051Z"
    }
   },
   "outputs": [
    {
     "data": {
      "text/html": [
       "<div>\n",
       "<style scoped>\n",
       "    .dataframe tbody tr th:only-of-type {\n",
       "        vertical-align: middle;\n",
       "    }\n",
       "\n",
       "    .dataframe tbody tr th {\n",
       "        vertical-align: top;\n",
       "    }\n",
       "\n",
       "    .dataframe thead th {\n",
       "        text-align: right;\n",
       "    }\n",
       "</style>\n",
       "<table border=\"1\" class=\"dataframe\">\n",
       "  <thead>\n",
       "    <tr style=\"text-align: right;\">\n",
       "      <th></th>\n",
       "      <th>x1</th>\n",
       "      <th>x2</th>\n",
       "      <th>x3</th>\n",
       "      <th>x4</th>\n",
       "      <th>x5</th>\n",
       "      <th>y</th>\n",
       "    </tr>\n",
       "  </thead>\n",
       "  <tbody>\n",
       "    <tr>\n",
       "      <th>0</th>\n",
       "      <td>2</td>\n",
       "      <td>4</td>\n",
       "      <td>6</td>\n",
       "      <td>8</td>\n",
       "      <td>10</td>\n",
       "      <td>1</td>\n",
       "    </tr>\n",
       "    <tr>\n",
       "      <th>1</th>\n",
       "      <td>3</td>\n",
       "      <td>6</td>\n",
       "      <td>9</td>\n",
       "      <td>12</td>\n",
       "      <td>15</td>\n",
       "      <td>1</td>\n",
       "    </tr>\n",
       "    <tr>\n",
       "      <th>2</th>\n",
       "      <td>4</td>\n",
       "      <td>9</td>\n",
       "      <td>5</td>\n",
       "      <td>2</td>\n",
       "      <td>4</td>\n",
       "      <td>0</td>\n",
       "    </tr>\n",
       "    <tr>\n",
       "      <th>3</th>\n",
       "      <td>5</td>\n",
       "      <td>10</td>\n",
       "      <td>2</td>\n",
       "      <td>6</td>\n",
       "      <td>8</td>\n",
       "      <td>0</td>\n",
       "    </tr>\n",
       "  </tbody>\n",
       "</table>\n",
       "</div>"
      ],
      "text/plain": [
       "   x1  x2  x3  x4  x5  y\n",
       "0   2   4   6   8  10  1\n",
       "1   3   6   9  12  15  1\n",
       "2   4   9   5   2   4  0\n",
       "3   5  10   2   6   8  0"
      ]
     },
     "execution_count": 41,
     "metadata": {},
     "output_type": "execute_result"
    }
   ],
   "source": [
    "data ={\n",
    "   'x1':[2,3,4,5],\n",
    "   'x2':[4,6,9,10],\n",
    "   'x3':[6,9,5,2],\n",
    "    'x4':[8,12,2,6],\n",
    "   'x5':[10,15,4,8],\n",
    "    'y':[1,1,0,0]}\n",
    "\n",
    "df = pd.DataFrame(data)\n",
    "df.head()"
   ]
  },
  {
   "cell_type": "code",
   "execution_count": 42,
   "id": "bdb4c71a",
   "metadata": {
    "execution": {
     "iopub.execute_input": "2024-03-25T23:14:48.849143Z",
     "iopub.status.busy": "2024-03-25T23:14:48.848746Z",
     "iopub.status.idle": "2024-03-25T23:14:48.857244Z",
     "shell.execute_reply": "2024-03-25T23:14:48.856205Z",
     "shell.execute_reply.started": "2024-03-25T23:14:48.849114Z"
    }
   },
   "outputs": [
    {
     "name": "stdout",
     "output_type": "stream",
     "text": [
      "[[ 2  3  4  5]\n",
      " [ 4  6  9 10]\n",
      " [ 6  9  5  2]\n",
      " [ 8 12  2  6]\n",
      " [10 15  4  8]]\n",
      "(5, 4)\n"
     ]
    }
   ],
   "source": [
    "X = np.array(df.iloc[:,:-1]).T\n",
    "print(X)\n",
    "print(X.shape)"
   ]
  },
  {
   "cell_type": "code",
   "execution_count": 43,
   "id": "0b7f292d",
   "metadata": {
    "execution": {
     "iopub.execute_input": "2024-03-25T23:14:49.894616Z",
     "iopub.status.busy": "2024-03-25T23:14:49.893184Z",
     "iopub.status.idle": "2024-03-25T23:14:49.902416Z",
     "shell.execute_reply": "2024-03-25T23:14:49.900943Z",
     "shell.execute_reply.started": "2024-03-25T23:14:49.894542Z"
    }
   },
   "outputs": [
    {
     "name": "stdout",
     "output_type": "stream",
     "text": [
      "[[1 1 0 0]]\n",
      "(1, 4)\n"
     ]
    }
   ],
   "source": [
    "y = np.array(df.iloc[:,-1]).reshape(1,-1)\n",
    "print(y)\n",
    "print(y.shape)"
   ]
  },
  {
   "cell_type": "code",
   "execution_count": 44,
   "id": "af362048",
   "metadata": {
    "execution": {
     "iopub.execute_input": "2024-03-25T23:14:58.844196Z",
     "iopub.status.busy": "2024-03-25T23:14:58.842922Z",
     "iopub.status.idle": "2024-03-25T23:14:58.851185Z",
     "shell.execute_reply": "2024-03-25T23:14:58.849942Z",
     "shell.execute_reply.started": "2024-03-25T23:14:58.844149Z"
    }
   },
   "outputs": [],
   "source": [
    "def cal_loss(a, y):\n",
    "    n,m = y.shape\n",
    "    loss = -1/m * np.sum(y * np.log(a) + (1 - y) * np.log(1 - a))\n",
    "    return loss"
   ]
  },
  {
   "cell_type": "code",
   "execution_count": 45,
   "id": "3636a249",
   "metadata": {
    "execution": {
     "iopub.execute_input": "2024-03-25T23:14:59.169282Z",
     "iopub.status.busy": "2024-03-25T23:14:59.168929Z",
     "iopub.status.idle": "2024-03-25T23:14:59.174925Z",
     "shell.execute_reply": "2024-03-25T23:14:59.173634Z",
     "shell.execute_reply.started": "2024-03-25T23:14:59.169254Z"
    }
   },
   "outputs": [],
   "source": [
    "def weight(X):\n",
    "    num_feature = X.shape[0]\n",
    "    b = 1\n",
    "    W = np.ones((num_feature, 1)) * 0.005  \n",
    "    return W, b"
   ]
  },
  {
   "cell_type": "code",
   "execution_count": 46,
   "id": "f07ddd26",
   "metadata": {
    "execution": {
     "iopub.execute_input": "2024-03-25T23:14:59.913300Z",
     "iopub.status.busy": "2024-03-25T23:14:59.912939Z",
     "iopub.status.idle": "2024-03-25T23:14:59.920936Z",
     "shell.execute_reply": "2024-03-25T23:14:59.919319Z",
     "shell.execute_reply.started": "2024-03-25T23:14:59.913273Z"
    }
   },
   "outputs": [
    {
     "data": {
      "text/plain": [
       "((5, 1), (5, 4))"
      ]
     },
     "execution_count": 46,
     "metadata": {},
     "output_type": "execute_result"
    }
   ],
   "source": [
    "W.shape, X.shape"
   ]
  },
  {
   "cell_type": "code",
   "execution_count": 47,
   "id": "44094dc1",
   "metadata": {
    "execution": {
     "iopub.execute_input": "2024-03-25T23:15:00.929124Z",
     "iopub.status.busy": "2024-03-25T23:15:00.928745Z",
     "iopub.status.idle": "2024-03-25T23:15:00.935169Z",
     "shell.execute_reply": "2024-03-25T23:15:00.933637Z",
     "shell.execute_reply.started": "2024-03-25T23:15:00.929097Z"
    }
   },
   "outputs": [],
   "source": [
    "def sigmoid(z):\n",
    "    a = 1/(1+np.exp(-z))\n",
    "    return a"
   ]
  },
  {
   "cell_type": "code",
   "execution_count": 48,
   "id": "dad5a023",
   "metadata": {
    "execution": {
     "iopub.execute_input": "2024-03-25T23:15:01.711135Z",
     "iopub.status.busy": "2024-03-25T23:15:01.710248Z",
     "iopub.status.idle": "2024-03-25T23:15:01.718489Z",
     "shell.execute_reply": "2024-03-25T23:15:01.716946Z",
     "shell.execute_reply.started": "2024-03-25T23:15:01.711098Z"
    }
   },
   "outputs": [],
   "source": [
    "def forward_pass(X,W,b):\n",
    "    z = np.dot(W.T,X) + b\n",
    "    a = sigmoid(z)\n",
    "    return z,a"
   ]
  },
  {
   "cell_type": "code",
   "execution_count": 49,
   "id": "db19831b",
   "metadata": {
    "execution": {
     "iopub.execute_input": "2024-03-25T23:15:02.681639Z",
     "iopub.status.busy": "2024-03-25T23:15:02.681211Z",
     "iopub.status.idle": "2024-03-25T23:15:02.689260Z",
     "shell.execute_reply": "2024-03-25T23:15:02.687648Z",
     "shell.execute_reply.started": "2024-03-25T23:15:02.681607Z"
    }
   },
   "outputs": [],
   "source": [
    "def backpass(a, y, W, X, b, alpha):\n",
    "    m = X.shape[1]\n",
    "    dz = a - y\n",
    "    dW = 1/m * np.dot(X, dz.T)\n",
    "    db = 1/m * np.sum(dz)\n",
    "    W = W - alpha * dW\n",
    "    b = b - alpha * db\n",
    "    return W, b"
   ]
  },
  {
   "cell_type": "code",
   "execution_count": 50,
   "id": "0a8d47e4",
   "metadata": {
    "execution": {
     "iopub.execute_input": "2024-03-25T23:15:04.490761Z",
     "iopub.status.busy": "2024-03-25T23:15:04.490349Z",
     "iopub.status.idle": "2024-03-25T23:15:04.516019Z",
     "shell.execute_reply": "2024-03-25T23:15:04.513763Z",
     "shell.execute_reply.started": "2024-03-25T23:15:04.490731Z"
    }
   },
   "outputs": [
    {
     "name": "stdout",
     "output_type": "stream",
     "text": [
      "[[0.005]\n",
      " [0.005]\n",
      " [0.005]\n",
      " [0.005]\n",
      " [0.005]] 1\n",
      "--------------------------------------\n",
      "The Loss is: 0.7504432862462113\n",
      "The Predicted Output a/y_hat: [[0.71971171 0.71414525 0.69122765 0.68684239]]\n",
      "The values of W: [[-0.00800901]\n",
      " [-0.02282297]\n",
      " [ 0.00209817]\n",
      " [ 0.00353072]\n",
      " [-0.0004475 ]], b: 0.9976880808550079\n",
      "\n",
      "--------------------------------------\n",
      "The Loss is: 0.6807540906257847\n",
      "The Predicted Output a/y_hat: [[0.69560177 0.67734953 0.63257248 0.62062927]]\n",
      "The values of W: [[-0.01891286]\n",
      " [-0.04627562]\n",
      " [ 0.00199429]\n",
      " [ 0.00566025]\n",
      " [-0.00106429]], b: 0.995929395806827\n",
      "\n",
      "--------------------------------------\n",
      "The Loss is: 0.626815593574413\n",
      "The Predicted Output a/y_hat: [[0.68692518 0.66403795 0.58469097 0.569834  ]]\n",
      "The values of W: [[-0.0283252 ]\n",
      " [-0.06661395]\n",
      " [ 0.00357951]\n",
      " [ 0.00990766]\n",
      " [ 0.00123501]], b: 0.9945409542314041\n",
      "\n",
      "--------------------------------------\n",
      "The Loss is: 0.581209208435119\n",
      "The Predicted Output a/y_hat: [[0.68753084 0.66511045 0.54480413 0.5301579 ]]\n",
      "The values of W: [[-0.03669978]\n",
      " [-0.08476863]\n",
      " [ 0.00608057]\n",
      " [ 0.01524089]\n",
      " [ 0.00510919]], b: 0.9933911289298073\n",
      "\n",
      "--------------------------------------\n",
      "The Loss is: 0.5410766546468901\n",
      "The Predicted Output a/y_hat: [[0.69316716 0.67397222 0.51051103 0.49785321]]\n",
      "The values of W: [[-0.04432741]\n",
      " [-0.10133779]\n",
      " [ 0.00903181]\n",
      " [ 0.02104154]\n",
      " [ 0.00974927]], b: 0.9923977715733742\n",
      "\n",
      "--------------------------------------\n",
      "The Loss is: 0.5051997808301127\n",
      "The Predicted Output a/y_hat: [[0.70129589 0.68663113 0.48020384 0.47043383]]\n",
      "The values of W: [[-0.05138659]\n",
      " [-0.11669006]\n",
      " [ 0.012171  ]\n",
      " [ 0.02696498]\n",
      " [ 0.01469967]], b: 0.9915121644707428\n",
      "\n",
      "--------------------------------------\n",
      "The Loss is: 0.4729182287410144\n",
      "The Predicted Output a/y_hat: [[0.71049753 0.70084205 0.45289359 0.446392  ]]\n",
      "The values of W: [[-0.05798784]\n",
      " [-0.13105495]\n",
      " [ 0.01535588]\n",
      " [ 0.03282795]\n",
      " [ 0.01971355]], b: 0.9907055925033085\n",
      "\n",
      "--------------------------------------\n",
      "The Loss is: 0.443773555040581\n",
      "The Predicted Output a/y_hat: [[0.72000668 0.7153936  0.42798046 0.42483302]]\n",
      "The values of W: [[-0.06420239]\n",
      " [-0.14458158]\n",
      " [ 0.0185115 ]\n",
      " [ 0.03853761]\n",
      " [ 0.02466138]], b: 0.9899607429262184\n",
      "\n",
      "--------------------------------------\n",
      "The Loss is: 0.417396787046875\n",
      "The Predicted Output a/y_hat: [[0.7294225  0.72965538 0.40508863 0.40521735]]\n",
      "The values of W: [[-0.07007909]\n",
      " [-0.15737308]\n",
      " [ 0.02159976]\n",
      " [ 0.04405053]\n",
      " [ 0.02947802]], b: 0.9892667014664759\n",
      "\n",
      "--------------------------------------\n",
      "The Loss is: 0.393472082881655\n",
      "The Predicted Output a/y_hat: [[0.738543   0.74331582 0.38396607 0.38720504]]\n",
      "The values of W: [[-0.07565382]\n",
      " [-0.16950588]\n",
      " [ 0.02460254]\n",
      " [ 0.04934989]\n",
      " [ 0.03413323]], b: 0.9886161600314326\n",
      "\n"
     ]
    }
   ],
   "source": [
    "alpha = 0.001\n",
    "epochs=100\n",
    "W,b = weight(X)\n",
    "print(W, b)\n",
    "\n",
    "for i in range(epochs):\n",
    "    z, a = forward_pass(X,W,b)\n",
    "    loss = cal_loss(a,y)\n",
    "    W,b = backpass(a,y,W,X,b,alpha)\n",
    "    if (i+1) % 10 == 0:\n",
    "        print('--------------------------------------')\n",
    "        print(f'The Loss is: {loss}')\n",
    "        print(f'The Predicted Output a/y_hat: {a}')\n",
    "        print(f'The values of W: {W}, b: {b}\\n')\n"
   ]
  },
  {
   "cell_type": "code",
   "execution_count": 53,
   "id": "858b2499",
   "metadata": {
    "execution": {
     "iopub.execute_input": "2024-03-25T23:15:42.422243Z",
     "iopub.status.busy": "2024-03-25T23:15:42.421791Z",
     "iopub.status.idle": "2024-03-25T23:15:42.431469Z",
     "shell.execute_reply": "2024-03-25T23:15:42.429814Z",
     "shell.execute_reply.started": "2024-03-25T23:15:42.422206Z"
    }
   },
   "outputs": [
    {
     "data": {
      "text/plain": [
       "(5, 1)"
      ]
     },
     "execution_count": 53,
     "metadata": {},
     "output_type": "execute_result"
    }
   ],
   "source": [
    "W.shape"
   ]
  },
  {
   "cell_type": "markdown",
   "id": "63986547-a30b-413b-8406-d40064d06e89",
   "metadata": {},
   "source": [
    "# Neural Network (Assignment 4)"
   ]
  },
  {
   "cell_type": "code",
   "execution_count": 10,
   "id": "6a2053cf-88af-4dcd-82cd-a4028bcb3f3f",
   "metadata": {},
   "outputs": [],
   "source": [
    "\n",
    "def sigmoid(x):\n",
    "    return 1 / (1 + np.exp(-x))\n",
    "\n",
    "def sigmoid_derivative(x):\n",
    "    return x * (1 - x)\n",
    "\n"
   ]
  },
  {
   "cell_type": "code",
   "execution_count": 11,
   "id": "b223a06b-ea01-4e72-9ca5-413186190837",
   "metadata": {},
   "outputs": [],
   "source": [
    "\n",
    "def initialize_parameters(input_size, hidden_size, output_size):\n",
    "    W1 = np.random.randn(hidden_size, input_size)\n",
    "    b1 = np.ones((hidden_size, 1))\n",
    "    W2 = np.random.randn(output_size, hidden_size)\n",
    "    b2 = np.ones((output_size, 1))\n",
    "    return W1, b1, W2, b2\n"
   ]
  },
  {
   "cell_type": "code",
   "execution_count": 12,
   "id": "440ea1ce-29ba-4e73-bd3d-abaf0562d4fc",
   "metadata": {},
   "outputs": [],
   "source": [
    "def forward_pass(X, W1, b1, W2, b2):\n",
    "    z1 = np.dot(W1, X) + b1\n",
    "    a1 = sigmoid(z1)\n",
    "    z2 = np.dot(W2, a1) + b2\n",
    "    a2 = sigmoid(z2)\n",
    "    return a1, a2\n"
   ]
  },
  {
   "cell_type": "code",
   "execution_count": 13,
   "id": "c1379d24-ead9-42c7-bdf2-379ee00eae72",
   "metadata": {},
   "outputs": [],
   "source": [
    "\n",
    "def backward_pass(X, y, a1, a2, W2):\n",
    "    m = X.shape[1]\n",
    "    dz2 = a2 - y\n",
    "    dW2 = np.dot(dz2, a1.T) / m\n",
    "    db2 = np.sum(dz2, axis=1, keepdims=True) / m\n",
    "    dz1 = np.dot(W2.T, dz2) * sigmoid_derivative(a1)\n",
    "    dW1 = np.dot(dz1, X.T) / m\n",
    "    db1 = np.sum(dz1, axis=1, keepdims=True) / m\n",
    "    return dW1, db1, dW2, db2\n"
   ]
  },
  {
   "cell_type": "code",
   "execution_count": 14,
   "id": "97ef976d-567a-4dbf-999f-45e1daa5a902",
   "metadata": {},
   "outputs": [],
   "source": [
    "\n",
    "def update_parameters(W1, b1, W2, b2, dW1, db1, dW2, db2, learning_rate):\n",
    "    W1 -= learning_rate * dW1\n",
    "    b1 -= learning_rate * db1\n",
    "    W2 -= learning_rate * dW2\n",
    "    b2 -= learning_rate * db2\n",
    "    return W1, b1, W2, b2\n"
   ]
  },
  {
   "cell_type": "code",
   "execution_count": 18,
   "id": "0286ba64-fb56-4746-8921-b18ecc215341",
   "metadata": {},
   "outputs": [],
   "source": [
    "def train(X, y, input_size, hidden_size, output_size, epochs, learning_rate):\n",
    "    W1, b1, W2, b2 = initialize_parameters(input_size, hidden_size, output_size)\n",
    "    for epoch in range(epochs):\n",
    "        a1, a2 = forward_pass(X, W1, b1, W2, b2)\n",
    "        dW1, db1, dW2, db2 = backward_pass(X, y, a1, a2, W2)\n",
    "        W1, b1, W2, b2 = update_parameters(W1, b1, W2, b2, dW1, db1, dW2, db2, learning_rate)\n",
    "        if epoch % 5 == 0:\n",
    "            loss = np.mean(np.square(a2 - y))\n",
    "            print(f'Epoch {epoch}, Loss: {loss}')\n"
   ]
  },
  {
   "cell_type": "code",
   "execution_count": 20,
   "id": "f87ad8a0-4802-4d4a-b49f-40a5ddaba3a4",
   "metadata": {},
   "outputs": [
    {
     "name": "stdout",
     "output_type": "stream",
     "text": [
      "Epoch 0, Loss: 2.614338222586751\n",
      "Epoch 5, Loss: 1.5205398193156334\n",
      "Epoch 10, Loss: 0.8219060923427748\n",
      "Epoch 15, Loss: 0.6119512691625879\n"
     ]
    }
   ],
   "source": [
    "input_size = 3\n",
    "hidden_size = 4\n",
    "output_size = 1\n",
    "\n",
    "X = np.random.randn(input_size, 1)\n",
    "y = np.random.randn(output_size, 1)\n",
    "\n",
    "# Train the neural network\n",
    "train(X, y, input_size, hidden_size, output_size, epochs=20, learning_rate=0.1)"
   ]
  },
  {
   "cell_type": "code",
   "execution_count": null,
   "id": "c1435674-eedc-40ba-84d8-bd47cf4d63c0",
   "metadata": {},
   "outputs": [],
   "source": []
  }
 ],
 "metadata": {
  "kaggle": {
   "accelerator": "none",
   "dataSources": [],
   "dockerImageVersionId": 30673,
   "isGpuEnabled": false,
   "isInternetEnabled": true,
   "language": "python",
   "sourceType": "notebook"
  },
  "kernelspec": {
   "display_name": "Python 3 (ipykernel)",
   "language": "python",
   "name": "python3"
  },
  "language_info": {
   "codemirror_mode": {
    "name": "ipython",
    "version": 3
   },
   "file_extension": ".py",
   "mimetype": "text/x-python",
   "name": "python",
   "nbconvert_exporter": "python",
   "pygments_lexer": "ipython3",
   "version": "3.12.2"
  }
 },
 "nbformat": 4,
 "nbformat_minor": 5
}
